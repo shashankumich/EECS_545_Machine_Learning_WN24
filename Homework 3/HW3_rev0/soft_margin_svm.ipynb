{
 "cells": [
  {
   "cell_type": "markdown",
   "id": "5e5aeee1-2103-4fb5-a2f2-84991484968b",
   "metadata": {},
   "source": [
    "# EECS 545 (WN 2024) Homework 3 Q2: Implementing Soft Margin SVM by Optimizing Primal Objective\n",
    "\n",
    "<span class=\"instruction\">Before starting the assignment, please fill in the following cell.</span>"
   ]
  },
  {
   "cell_type": "code",
   "execution_count": 1,
   "id": "cc5efaa6-b3f5-4dfa-a90e-54ca350c071b",
   "metadata": {},
   "outputs": [
    {
     "name": "stdout",
     "output_type": "stream",
     "text": [
      "Your name and email: Shashank Verma <shaaero@umich.edu>\n"
     ]
    }
   ],
   "source": [
    "###################################################################\n",
    "# Enter your first and last name, e.g. \"John Doe\"                 #\n",
    "# for example                                                     #\n",
    "__NAME__ = \"Shashank Verma\"                                       #\n",
    "__UNIQID__ = \"shaaero\"                                         #\n",
    "###################################################################\n",
    "# raise NotImplementedError(\"TODO: Add your implementation here.\")\n",
    "###################################################################\n",
    "#                        END OF YOUR CODE                         #\n",
    "###################################################################\n",
    "\n",
    "print(f\"Your name and email: {__NAME__} <{__UNIQID__}@umich.edu>\")\n",
    "assert __NAME__ and __UNIQID__"
   ]
  },
  {
   "cell_type": "markdown",
   "id": "ecc5b473-5ec6-466d-a466-b0b077a8f3cc",
   "metadata": {},
   "source": [
    "# Support Vector Machine (SVM)\n",
    "In this notebook you will implement the SVM algorithm, using batch gradient descent and stochastic gradient descent.\n",
    "\n",
    "After implementing the SVM, you will report the trained parameters (**w**, b) for batch gradient descent."
   ]
  },
  {
   "cell_type": "markdown",
   "id": "00a2e071-6a48-44de-9012-d2e8b3cfe8b0",
   "metadata": {},
   "source": [
    "## Setup code\n",
    "Before getting started, we need to run some boilerplate code to set up our environment. You'll need to rerun this setup code each time you start the notebook. Let's start by checking whether we are using Python 3.11 or higher."
   ]
  },
  {
   "cell_type": "code",
   "execution_count": 2,
   "id": "8be1dadb-5304-4992-857a-be49609049f5",
   "metadata": {},
   "outputs": [
    {
     "name": "stdout",
     "output_type": "stream",
     "text": [
      "You are good to go\n"
     ]
    }
   ],
   "source": [
    "import sys\n",
    "if sys.version_info[0] < 3:\n",
    "    raise Exception(\"You must use Python 3\")\n",
    "\n",
    "if sys.version_info[1] < 11:\n",
    "    print(\"Autograder will execute your code based on Python 3.11 environment. Please use Python 3.11 or higher to prevent any issues\")\n",
    "    print(\"You can create a conda environment with Python 3.11 like 'conda create --name eecs545 python=3.11'\")\n",
    "    raise Exception(\"Python 3 version is too low: {}\".format(sys.version))\n",
    "else:\n",
    "    print(\"You are good to go\")"
   ]
  },
  {
   "cell_type": "markdown",
   "id": "a2f7473e-f6f6-4103-a2db-6f6bac0a118e",
   "metadata": {},
   "source": [
    "First, run this cell load the [autoreload](https://ipython.readthedocs.io/en/stable/config/extensions/autoreload.html) extension. This allows us to edit `.py` source files, and re-import them into the notebook for a seamless editing and debugging experience."
   ]
  },
  {
   "cell_type": "code",
   "execution_count": 3,
   "id": "4dfbe411-7f01-4bd1-96de-f84a51ce9ada",
   "metadata": {},
   "outputs": [],
   "source": [
    "%load_ext autoreload\n",
    "%autoreload 2"
   ]
  },
  {
   "cell_type": "markdown",
   "id": "5f00f238-ee5a-44aa-95b2-3d611aa43035",
   "metadata": {},
   "source": [
    "Once you located the `soft_margin_svm.py` correctly, run the following cell allow us to import from `soft_margin_svm.py`. If it works correctly, it should print the message:\n",
    "```Hello from soft_margin_svm.py```"
   ]
  },
  {
   "cell_type": "code",
   "execution_count": 4,
   "id": "dfe48494-bfcf-4cd6-ab99-5683563d0b71",
   "metadata": {},
   "outputs": [
    {
     "name": "stderr",
     "output_type": "stream",
     "text": [
      "/Users/shashank/Dropbox (University of Michigan)/UMich/Courses/Winter 2024/EECS 545/Homework 3/HW3_rev0/soft_margin_svm.py:11: SyntaxWarning: invalid escape sequence '\\p'\n",
      "  \"\"\"\n",
      "/Users/shashank/Dropbox (University of Michigan)/UMich/Courses/Winter 2024/EECS 545/Homework 3/HW3_rev0/soft_margin_svm.py:47: SyntaxWarning: invalid escape sequence '\\p'\n",
      "  \"\"\"\n"
     ]
    },
    {
     "name": "stdout",
     "output_type": "stream",
     "text": [
      "Hello from soft_margin_svm.py\n"
     ]
    }
   ],
   "source": [
    "from soft_margin_svm import hello\n",
    "hello()"
   ]
  },
  {
   "cell_type": "markdown",
   "id": "2097b152-ed0d-4389-b9e6-4df4c50d5741",
   "metadata": {},
   "source": [
    "Then, we run some setup code for this notebook: Increase the default figure size."
   ]
  },
  {
   "cell_type": "code",
   "execution_count": 5,
   "id": "6202c3f1-99f7-48f5-8fa5-9b982203b74c",
   "metadata": {},
   "outputs": [
    {
     "data": {
      "text/html": [
       "\n",
       "<style type=\"text/css\">\n",
       "  .instruction { background-color: yellow; font-weight:bold; padding: 3px; }\n",
       "</style>\n"
      ]
     },
     "metadata": {},
     "output_type": "display_data"
    }
   ],
   "source": [
    "from IPython.display import display_html, HTML\n",
    "\n",
    "display_html(HTML('''\n",
    "<style type=\"text/css\">\n",
    "  .instruction { background-color: yellow; font-weight:bold; padding: 3px; }\n",
    "</style>\n",
    "'''));"
   ]
  },
  {
   "cell_type": "markdown",
   "id": "cb67a55b-7773-46b7-8d27-3694ecb8c655",
   "metadata": {},
   "source": [
    "## Load the dataset\n",
    "The following codebase will load the dataset. It prints out the key and dimension of matched value matrix."
   ]
  },
  {
   "cell_type": "code",
   "execution_count": 6,
   "id": "d204ff13",
   "metadata": {},
   "outputs": [
    {
     "name": "stdout",
     "output_type": "stream",
     "text": [
      "Key \"x_train\" has shape (76, 4)\n",
      "First three rows of x_train are [[5.7 4.4 1.5 0.4]\n",
      " [4.9 3.1 1.5 0.1]\n",
      " [6.  2.2 4.  1. ]]\n",
      "Key \"y_train\" has shape (76, 1)\n",
      "First three rows of y_train are [[ 1.]\n",
      " [-1.]\n",
      " [ 1.]]\n",
      "Key \"x_test\" has shape (24, 4)\n",
      "First three rows of x_test are [[5.1 3.5 1.4 0.2]\n",
      " [4.9 3.  1.4 0.2]\n",
      " [4.7 3.2 1.3 0.2]]\n",
      "Key \"y_test\" has shape (24, 1)\n",
      "First three rows of y_test are [[ 1.]\n",
      " [-1.]\n",
      " [-1.]]\n"
     ]
    }
   ],
   "source": [
    "import numpy as np\n",
    "import os\n",
    "filename = 'data/soft_margin_svm/soft_margin_svm_data.npy'\n",
    "\n",
    "if not os.path.exists(filename):\n",
    "    print(f'Oops! We failed to find the data file {filename}')\n",
    "else:\n",
    "    data = np.load(filename, allow_pickle=True).item()\n",
    "    \n",
    "    for k, v in data.items():\n",
    "        print(f'Key \"{k}\" has shape {v.shape}')\n",
    "        print(f'First three rows of {k} are {v[:3]}')"
   ]
  },
  {
   "cell_type": "markdown",
   "id": "07008574-b93c-4932-8f0e-64dcabb6d86d",
   "metadata": {},
   "source": [
    "Note: make sure our y has -1 or 1."
   ]
  },
  {
   "cell_type": "code",
   "execution_count": 7,
   "id": "9cca42f8-37f4-46c5-a9d5-c854976876e4",
   "metadata": {},
   "outputs": [
    {
     "name": "stdout",
     "output_type": "stream",
     "text": [
      "[-1.  1.]\n"
     ]
    }
   ],
   "source": [
    "print(np.unique(data['y_train']))"
   ]
  },
  {
   "cell_type": "markdown",
   "id": "ca83348e-803f-45cd-8726-4c3054f6f6df",
   "metadata": {},
   "source": [
    "## Implement batch gradient descent\n",
    "\n",
    "<span class=\"instruction\">We will implement the batch gradient descent-based training in `svm_train_bgd` function in `soft_margin_svm.py` </span> and then test with `svm_test`. "
   ]
  },
  {
   "cell_type": "code",
   "execution_count": 32,
   "id": "3d77a0ab-c5cc-4bf1-a1cd-91ac75bd4780",
   "metadata": {},
   "outputs": [
    {
     "name": "stdout",
     "output_type": "stream",
     "text": [
      "The accuracy of batch gradient descent-based SVM is 95.83%\n"
     ]
    },
    {
     "name": "stderr",
     "output_type": "stream",
     "text": [
      "/Users/shashank/Dropbox (University of Michigan)/UMich/Courses/Winter 2024/EECS 545/Homework 3/HW3_rev0/soft_margin_svm.py:11: SyntaxWarning: invalid escape sequence '\\p'\n",
      "  \"\"\"\n",
      "/Users/shashank/Dropbox (University of Michigan)/UMich/Courses/Winter 2024/EECS 545/Homework 3/HW3_rev0/soft_margin_svm.py:58: SyntaxWarning: invalid escape sequence '\\p'\n",
      "  - W: Numpy array of shape (1, num_features).\n"
     ]
    }
   ],
   "source": [
    "from soft_margin_svm import svm_train_bgd, svm_test\n",
    "\n",
    "W, b = svm_train_bgd(data['x_train'], data['y_train'])\n",
    "\n",
    "if np.all(W == 0):\n",
    "    print('you should update W')\n",
    "if np.all(b == 0):\n",
    "    print('you should update b')\n",
    "    \n",
    "accuracy = svm_test(W, b, data['x_test'], data['y_test'])\n",
    "print(f'The accuracy of batch gradient descent-based SVM is {accuracy*100:4.2f}%')"
   ]
  },
  {
   "cell_type": "markdown",
   "id": "5ea508bc-7104-437f-bdbc-eb8858c160bd",
   "metadata": {},
   "source": [
    "Following the task in the question, we will run `svm_train_bgd` over 5 times, with changing the iteration. The next cell shows the outcome. If the accuracy decrease over time, you may want to revisit your implementation. You are required to <span class=\"instruction\"> report those test accuracies as well as the trained weights (b and **W**) in your **writeup** </span>."
   ]
  },
  {
   "cell_type": "code",
   "execution_count": 33,
   "id": "fa3af43c-bc55-4c6d-9399-50802d68ce80",
   "metadata": {},
   "outputs": [
    {
     "name": "stdout",
     "output_type": "stream",
     "text": [
      "[NumEpochs: 1] Accuracy: 54.17%\n",
      "b: [0.01], W: [[ 0.224  -0.0855  0.545   0.206 ]]\n",
      "[NumEpochs: 3] Accuracy: 54.17%\n",
      "b: [0.02], W: [[ 0.44848122 -0.17019759  1.08918105  0.41163421]]\n",
      "[NumEpochs: 10] Accuracy: 95.83%\n",
      "b: [-0.14], W: [[-0.1648026  -0.80606447  1.37816462  0.57445096]]\n",
      "[NumEpochs: 30] Accuracy: 95.83%\n",
      "b: [-0.175], W: [[-0.20885861 -0.69979483  1.30489009  0.56605151]]\n",
      "[NumEpochs: 100] Accuracy: 95.83%\n",
      "b: [-0.315], W: [[-0.28240917 -0.77529188  1.75856715  0.82441652]]\n"
     ]
    }
   ],
   "source": [
    "from soft_margin_svm import svm_train_bgd, svm_test\n",
    "\n",
    "\n",
    "for num_epochs in [1, 3, 10, 30, 100]:\n",
    "    W, b = svm_train_bgd(data['x_train'], data['y_train'], num_epochs)\n",
    "    accuracy = svm_test(W, b, data['x_test'], data['y_test'])\n",
    "    print(f'[NumEpochs: {num_epochs}] Accuracy: {accuracy * 100:4.2f}%')\n",
    "    print(f'b: {b}, W: {W}')"
   ]
  },
  {
   "cell_type": "code",
   "execution_count": null,
   "id": "9a5b68c4-c78b-4a7c-ae2c-42a6ff64910f",
   "metadata": {},
   "outputs": [],
   "source": []
  },
  {
   "cell_type": "code",
   "execution_count": null,
   "id": "cfc15e17-24b1-4758-ac8b-37261fabce17",
   "metadata": {},
   "outputs": [],
   "source": []
  },
  {
   "cell_type": "code",
   "execution_count": null,
   "id": "81f400b2-0fec-480a-811b-9bd565b1eaf4",
   "metadata": {},
   "outputs": [],
   "source": []
  }
 ],
 "metadata": {
  "kernelspec": {
   "display_name": "Python 3 (ipykernel)",
   "language": "python",
   "name": "python3"
  },
  "language_info": {
   "codemirror_mode": {
    "name": "ipython",
    "version": 3
   },
   "file_extension": ".py",
   "mimetype": "text/x-python",
   "name": "python",
   "nbconvert_exporter": "python",
   "pygments_lexer": "ipython3",
   "version": "3.12.1"
  }
 },
 "nbformat": 4,
 "nbformat_minor": 5
}
