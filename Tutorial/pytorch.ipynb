{
 "cells": [
  {
   "cell_type": "code",
   "execution_count": 3,
   "metadata": {},
   "outputs": [
    {
     "name": "stdout",
     "output_type": "stream",
     "text": [
      "2.2.1\n"
     ]
    }
   ],
   "source": [
    "import torch\n",
    "import numpy as np\n",
    "print(torch.__version__)"
   ]
  },
  {
   "cell_type": "code",
   "execution_count": 4,
   "metadata": {},
   "outputs": [
    {
     "name": "stdout",
     "output_type": "stream",
     "text": [
      "My 1st tensor tensor([0, 1, 2, 3, 4, 5])\n",
      "My 2nd tensor tensor([0, 1, 2, 3, 4, 5, 6, 7, 8, 9])\n"
     ]
    }
   ],
   "source": [
    "tensor1 = torch.tensor([0,1,2,3,4,5])\n",
    "print(\"My 1st tensor\",tensor1)\n",
    "\n",
    "narray = np.arange(10)\n",
    "tensor2 = torch.from_numpy(narray)\n",
    "print(\"My 2nd tensor\", tensor2)"
   ]
  },
  {
   "cell_type": "code",
   "execution_count": 5,
   "metadata": {},
   "outputs": [
    {
     "name": "stdout",
     "output_type": "stream",
     "text": [
      "Zeroth element: tensor(0)\n",
      "Last element: tensor(5)\n"
     ]
    }
   ],
   "source": [
    "print(\"Zeroth element:\", tensor1[0])\n",
    "print(\"Last element:\", tensor1[-1])"
   ]
  },
  {
   "cell_type": "code",
   "execution_count": 6,
   "metadata": {},
   "outputs": [
    {
     "name": "stdout",
     "output_type": "stream",
     "text": [
      "The shape of tensor2 is torch.Size([10])\n",
      "The dim of tensor2 is 1\n"
     ]
    }
   ],
   "source": [
    "print(\"The shape of tensor2 is\", tensor2.size())\n",
    "print(\"The dim of tensor2 is\", tensor2.dim())"
   ]
  },
  {
   "cell_type": "code",
   "execution_count": 7,
   "metadata": {},
   "outputs": [
    {
     "name": "stdout",
     "output_type": "stream",
     "text": [
      "tensor([[ 2,  5,  7],\n",
      "        [11, 15, 18]])\n",
      "The shape of a is: torch.Size([2, 3])\n",
      "The dim of a is: 2\n",
      "tensor(15)\n",
      "tensor([[ 2,  5,  7],\n",
      "        [11, 99, 18]])\n"
     ]
    }
   ],
   "source": [
    "a = torch.tensor([[2,5,7], [11,15,18]])\n",
    "print(a)\n",
    "print(\"The shape of a is:\", a.shape)\n",
    "print(\"The dim of a is:\", a.dim())\n",
    "print(a[1, 1])\n",
    "\n",
    "a[1,1] = 99\n",
    "print(a)"
   ]
  },
  {
   "cell_type": "code",
   "execution_count": 10,
   "metadata": {},
   "outputs": [
    {
     "name": "stdout",
     "output_type": "stream",
     "text": [
      "tensor([[0.9234, 0.3473],\n",
      "        [0.4856, 0.3794],\n",
      "        [0.8445, 0.2767],\n",
      "        [0.0501, 0.9579],\n",
      "        [0.5679, 0.6208]], dtype=torch.float64)\n",
      "\n",
      "tensor([[0., 0.],\n",
      "        [0., 0.],\n",
      "        [0., 0.],\n",
      "        [0., 0.],\n",
      "        [0., 0.]], dtype=torch.float64)\n"
     ]
    }
   ],
   "source": [
    "a = torch.rand(5,2, dtype=torch.float64)\n",
    "print(a)\n",
    "print()\n",
    "\n",
    "b = torch.zeros_like(a)\n",
    "print(b)"
   ]
  },
  {
   "cell_type": "code",
   "execution_count": 12,
   "metadata": {},
   "outputs": [
    {
     "name": "stdout",
     "output_type": "stream",
     "text": [
      "tensor([0., 1., 2., 3., 4., 5., 6., 7., 8.])\n",
      "\n",
      "Viewing as a row\n",
      "tensor([[0., 1., 2., 3., 4., 5., 6., 7., 8.]])\n",
      "torch.Size([1, 9])\n",
      "\n",
      "Viewing as a col\n",
      "tensor([[0.],\n",
      "        [1.],\n",
      "        [2.],\n",
      "        [3.],\n",
      "        [4.],\n",
      "        [5.],\n",
      "        [6.],\n",
      "        [7.],\n",
      "        [8.]])\n",
      "torch.Size([9, 1])\n",
      "\n",
      "Viewing as matrix\n",
      "tensor([[0., 1., 2.],\n",
      "        [3., 4., 5.],\n",
      "        [6., 7., 8.]])\n",
      "torch.Size([3, 3])\n",
      "tensor([0., 1., 2., 3., 4., 5., 6., 7., 8.])\n"
     ]
    }
   ],
   "source": [
    "t1 = torch.arange(9, dtype=torch.float32)\n",
    "print(t1)\n",
    "\n",
    "print(\"\\nViewing as a row\")\n",
    "row_t1 = t1.view(1,9)\n",
    "print(row_t1)\n",
    "print(row_t1.shape)\n",
    "\n",
    "print(\"\\nViewing as a col\")\n",
    "col_t1 = t1.view(9,1)\n",
    "print(col_t1)\n",
    "print(col_t1.shape)\n",
    "\n",
    "print(\"\\nViewing as matrix\")\n",
    "mat_t1 = t1.view(3,3)\n",
    "print(mat_t1)\n",
    "print(mat_t1.shape)\n",
    "\n",
    "print(t1)"
   ]
  },
  {
   "cell_type": "code",
   "execution_count": 13,
   "metadata": {},
   "outputs": [
    {
     "name": "stdout",
     "output_type": "stream",
     "text": [
      "Before modification\n",
      "tensor([ 0,  1,  2,  3,  4,  5,  6,  7,  8,  9, 10, 11, 12, 13, 14])\n",
      "\n",
      "Intermediate Step\n",
      "tensor([[ 0,  1,  2],\n",
      "        [ 3,  4,  5],\n",
      "        [ 6,  7,  8],\n",
      "        [ 9, 10, 11],\n",
      "        [12, 13, 14]])\n",
      "tensor([[ 0,  1,  0],\n",
      "        [ 3,  4,  0],\n",
      "        [ 6,  7,  0],\n",
      "        [ 9, 10,  0],\n",
      "        [12, 13,  0]])\n",
      "\n",
      "After modification\n",
      "tensor([ 0,  1,  0,  3,  4,  0,  6,  7,  0,  9, 10,  0, 12, 13,  0])\n"
     ]
    }
   ],
   "source": [
    "dt = torch.arange(15)\n",
    "print(\"Before modification\")\n",
    "print(dt)\n",
    "\n",
    "print(\"\\nIntermediate Step\")\n",
    "ndt = dt.view(5,3)\n",
    "print(ndt)\n",
    "ndt[:, 2] = 0\n",
    "print(ndt)\n",
    "\n",
    "print(\"\\nAfter modification\")\n",
    "print(dt)"
   ]
  },
  {
   "cell_type": "code",
   "execution_count": 17,
   "metadata": {},
   "outputs": [
    {
     "name": "stdout",
     "output_type": "stream",
     "text": [
      "Tensor a\n",
      "tensor([[0.9574, 0.6812, 0.6144, 0.0699],\n",
      "        [0.3182, 0.1887, 0.5122, 0.2284],\n",
      "        [0.0922, 0.7973, 0.4554, 0.7960],\n",
      "        [0.3310, 0.4899, 0.5086, 0.5170]])\n",
      "\n",
      "Tensor b\n",
      "tensor([[ 1.,  2.,  3.,  4.],\n",
      "        [ 5.,  6.,  7.,  8.],\n",
      "        [ 9., 10., 11., 12.],\n",
      "        [13., 14., 15., 16.]])\n",
      "\n",
      "Addition\n",
      "tensor([[ 1.9574,  2.6812,  3.6144,  4.0699],\n",
      "        [ 5.3182,  6.1887,  7.5122,  8.2284],\n",
      "        [ 9.0922, 10.7973, 11.4554, 12.7960],\n",
      "        [13.3310, 14.4899, 15.5086, 16.5170]])\n",
      "\n",
      "Subtraction\n",
      "tensor([[ -0.0426,  -1.3188,  -2.3856,  -3.9301],\n",
      "        [ -4.6818,  -5.8113,  -6.4878,  -7.7716],\n",
      "        [ -8.9078,  -9.2027, -10.5446, -11.2040],\n",
      "        [-12.6690, -13.5101, -14.4914, -15.4830]])\n",
      "\n",
      "Multiplication\n",
      "tensor([[0.9574, 1.3625, 1.8431, 0.2797],\n",
      "        [1.5912, 1.1324, 3.5851, 1.8274],\n",
      "        [0.8297, 7.9727, 5.0092, 9.5514],\n",
      "        [4.3032, 6.8591, 7.6285, 8.2712]])\n",
      "\n",
      "Division\n",
      "tensor([[0.9574, 0.3406, 0.2048, 0.0175],\n",
      "        [0.0636, 0.0315, 0.0732, 0.0286],\n",
      "        [0.0102, 0.0797, 0.0414, 0.0663],\n",
      "        [0.0255, 0.0350, 0.0339, 0.0323]])\n",
      "\n",
      "Matrix Multiplication\n",
      "tensor([[10.8020, 13.1250, 15.4480, 17.7710],\n",
      "        [ 8.8408, 10.0884, 11.3359, 12.5835],\n",
      "        [18.5244, 20.6652, 22.8060, 24.9468],\n",
      "        [14.0782, 15.9246, 17.7711, 19.6176]])\n"
     ]
    }
   ],
   "source": [
    "a = torch.rand(4,4, dtype=torch.float32)\n",
    "b = torch.arange(1,17,dtype=torch.float32).view(4,4)\n",
    "\n",
    "print(\"Tensor a\")\n",
    "print(a)\n",
    "\n",
    "print(\"\\nTensor b\")\n",
    "print(b)\n",
    "\n",
    "print(\"\\nAddition\")\n",
    "print(a + b)\n",
    "\n",
    "print(\"\\nSubtraction\")\n",
    "print(a - b)\n",
    "\n",
    "print(\"\\nMultiplication\")\n",
    "print(a * b)\n",
    "\n",
    "print(\"\\nDivision\")\n",
    "print(a / b)\n",
    "\n",
    "print(\"\\nMatrix Multiplication\")\n",
    "print(torch.mm(a,b))"
   ]
  },
  {
   "cell_type": "code",
   "execution_count": 22,
   "metadata": {},
   "outputs": [
    {
     "name": "stdout",
     "output_type": "stream",
     "text": [
      "torch.Size([5, 8])\n",
      "\n",
      "torch.Size([1, 8])\n",
      "torch.Size([5, 8])\n",
      "\n",
      "torch.Size([5, 1])\n",
      "torch.Size([5, 8])\n"
     ]
    }
   ],
   "source": [
    "a = torch.rand(5,8)\n",
    "\n",
    "# Scalar\n",
    "print((a + 5).shape)\n",
    "print()\n",
    "\n",
    "# Basic broadcasting\n",
    "b = torch.rand(1,8)\n",
    "print(b.shape)\n",
    "print((a + b).shape)\n",
    "print()\n",
    "\n",
    "# Broadcasting\n",
    "b = torch.rand(5,1)\n",
    "print(b.shape)\n",
    "print((a+b).shape)"
   ]
  },
  {
   "cell_type": "code",
   "execution_count": 25,
   "metadata": {},
   "outputs": [
    {
     "ename": "ModuleNotFoundError",
     "evalue": "No module named 'torch_metal'",
     "output_type": "error",
     "traceback": [
      "\u001b[0;31m---------------------------------------------------------------------------\u001b[0m",
      "\u001b[0;31mModuleNotFoundError\u001b[0m                       Traceback (most recent call last)",
      "Cell \u001b[0;32mIn[25], line 5\u001b[0m\n\u001b[1;32m      2\u001b[0m \u001b[38;5;28;01mimport\u001b[39;00m \u001b[38;5;21;01mtime\u001b[39;00m\n\u001b[1;32m      4\u001b[0m \u001b[38;5;66;03m# Assuming `torch_metal` is a hypothetical library/module that enables PyTorch to use Apple Metal\u001b[39;00m\n\u001b[0;32m----> 5\u001b[0m \u001b[38;5;28;01mfrom\u001b[39;00m \u001b[38;5;21;01mtorch_metal\u001b[39;00m \u001b[38;5;28;01mimport\u001b[39;00m to_metal\n\u001b[1;32m      7\u001b[0m a \u001b[38;5;241m=\u001b[39m torch\u001b[38;5;241m.\u001b[39mrand(\u001b[38;5;241m512\u001b[39m, \u001b[38;5;241m1024\u001b[39m)\n\u001b[1;32m      8\u001b[0m b \u001b[38;5;241m=\u001b[39m torch\u001b[38;5;241m.\u001b[39mrand(\u001b[38;5;241m1024\u001b[39m, \u001b[38;5;241m2048\u001b[39m)\n",
      "\u001b[0;31mModuleNotFoundError\u001b[0m: No module named 'torch_metal'"
     ]
    }
   ],
   "source": [
    "import torch\n",
    "import time\n",
    "\n",
    "# Assuming `torch_metal` is a hypothetical library/module that enables PyTorch to use Apple Metal\n",
    "from torch_metal import to_metal\n",
    "\n",
    "a = torch.rand(512, 1024)\n",
    "b = torch.rand(1024, 2048)\n",
    "\n",
    "t1 = time.time()\n",
    "torch.mm(a, b)\n",
    "t2 = time.time()\n",
    "\n",
    "# Convert tensors to use Metal instead of CUDA\n",
    "ag = to_metal(a)\n",
    "bg = to_metal(b)\n",
    "\n",
    "t3 = time.time()\n",
    "torch.mm(ag, bg)\n",
    "# Assuming synchronization method for Metal (similar to CUDA's synchronize)\n",
    "torch_metal.synchronize()\n",
    "t4 = time.time()\n",
    "\n",
    "print(\"Time taken in CPU matmul is\", t2 - t1, \"seconds\")\n",
    "print(\"Time taken by GPU matmul is\", t4 - t3, \"seconds\")\n",
    "print(f\"That is a {((t2-t1)/(t4-t3)):.1f}X speedup!\")\n"
   ]
  },
  {
   "cell_type": "code",
   "execution_count": null,
   "metadata": {},
   "outputs": [],
   "source": []
  }
 ],
 "metadata": {
  "kernelspec": {
   "display_name": "Python 3",
   "language": "python",
   "name": "python3"
  },
  "language_info": {
   "codemirror_mode": {
    "name": "ipython",
    "version": 3
   },
   "file_extension": ".py",
   "mimetype": "text/x-python",
   "name": "python",
   "nbconvert_exporter": "python",
   "pygments_lexer": "ipython3",
   "version": "3.12.1"
  }
 },
 "nbformat": 4,
 "nbformat_minor": 2
}
